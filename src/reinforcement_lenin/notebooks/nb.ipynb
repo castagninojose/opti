{
 "cells": [
  {
   "cell_type": "code",
   "execution_count": 1,
   "id": "9d112ba3-e430-40b1-9766-8ea049c5ebcf",
   "metadata": {
    "scrolled": true
   },
   "outputs": [],
   "source": [
    "import numpy as np\n",
    "import networkx as nx\n",
    "#import matplotlib.pyplot as plt\n",
    "\n",
    "from src.reinforcement_lenin.grid import Board\n",
    "from src.reinforcement_lenin.constants import DEFAULT_STATE_POLICY"
   ]
  },
  {
   "cell_type": "code",
   "execution_count": 2,
   "id": "df35f435-0b0a-4e53-93ab-afcf1e9c0cd7",
   "metadata": {},
   "outputs": [
    {
     "ename": "KeyError",
     "evalue": "0",
     "output_type": "error",
     "traceback": [
      "\u001b[0;31m---------------------------------------------------------------------------\u001b[0m",
      "\u001b[0;31mKeyError\u001b[0m                                  Traceback (most recent call last)",
      "Cell \u001b[0;32mIn[2], line 1\u001b[0m\n\u001b[0;32m----> 1\u001b[0m juego_1 \u001b[38;5;241m=\u001b[39m \u001b[43mBoard\u001b[49m\u001b[43m(\u001b[49m\u001b[43m)\u001b[49m\n\u001b[1;32m      2\u001b[0m \u001b[38;5;66;03m#a, b = juego_1.iterate_policy(0.1, -1, 0.1)\u001b[39;00m\n\u001b[1;32m      3\u001b[0m \u001b[38;5;66;03m#a, b\u001b[39;00m\n\u001b[1;32m      4\u001b[0m juego_1\u001b[38;5;241m.\u001b[39mpolicy\n",
      "File \u001b[0;32m~/git-repos/opti/src/reinforcement_lenin/grid.py:87\u001b[0m, in \u001b[0;36mBoard.__init__\u001b[0;34m(self, N, policy)\u001b[0m\n\u001b[1;32m     85\u001b[0m \u001b[38;5;28;01mfor\u001b[39;00m direction \u001b[38;5;129;01min\u001b[39;00m n\u001b[38;5;241m.\u001b[39mvalues():\n\u001b[1;32m     86\u001b[0m     \u001b[38;5;28mbreakpoint\u001b[39m()\n\u001b[0;32m---> 87\u001b[0m     \u001b[38;5;28mself\u001b[39m\u001b[38;5;241m.\u001b[39mgraph\u001b[38;5;241m.\u001b[39madd_edge(k, \u001b[43mn\u001b[49m\u001b[43m[\u001b[49m\u001b[43mdirection\u001b[49m\u001b[43m]\u001b[49m)\n\u001b[1;32m     88\u001b[0m     \u001b[38;5;28mself\u001b[39m\u001b[38;5;241m.\u001b[39mgraph\u001b[38;5;241m.\u001b[39medges[k, n[direction]][\u001b[38;5;124m\"\u001b[39m\u001b[38;5;124mweight\u001b[39m\u001b[38;5;124m\"\u001b[39m] \u001b[38;5;241m=\u001b[39m \u001b[38;5;28mself\u001b[39m\u001b[38;5;241m.\u001b[39mpolicy[k][direction]\n",
      "\u001b[0;31mKeyError\u001b[0m: 0"
     ]
    }
   ],
   "source": [
    "juego_1 = Board()\n",
    "#a, b = juego_1.iterate_policy(0.1, -1, 0.1)\n",
    "#a, b\n",
    "juego_1.policy"
   ]
  },
  {
   "cell_type": "code",
   "execution_count": 28,
   "id": "6d04d058-31b8-4b97-bdd7-d5d1bb2a0773",
   "metadata": {},
   "outputs": [
    {
     "data": {
      "text/plain": [
       "[[0.5, 0.5, 0, 0],\n",
       " [0.25, 0.25, 0.25, 0.25],\n",
       " [0.25, 0.25, 0.25, 0.25],\n",
       " [0.25, 0.25, 0.25, 0.25],\n",
       " [0.25, 0.25, 0.25, 0.25],\n",
       " [0.25, 0.25, 0.25, 0.25],\n",
       " [0.25, 0.25, 0.25, 0.25],\n",
       " [0.25, 0.25, 0.25, 0.25],\n",
       " [0.25, 0.25, 0.25, 0.25],\n",
       " [0.25, 0.25, 0.25, 0.25],\n",
       " [0.25, 0.25, 0.25, 0.25],\n",
       " [0.25, 0.25, 0.25, 0.25],\n",
       " [0.25, 0.25, 0.25, 0.25],\n",
       " [0.25, 0.25, 0.25, 0.25],\n",
       " [0.25, 0.25, 0.25, 0.25],\n",
       " [0, 0, 0.5, 0.5]]"
      ]
     },
     "execution_count": 28,
     "metadata": {},
     "output_type": "execute_result"
    }
   ],
   "source": [
    "aver = [\n",
    "    [ v for k, v in juego_1.policy[n].items()] for n in juego_1.board.keys()\n",
    "]\n",
    "aver"
   ]
  },
  {
   "cell_type": "code",
   "execution_count": 3,
   "id": "5d755c91-6f42-4d8c-a2c9-b64bee1279f0",
   "metadata": {},
   "outputs": [
    {
     "data": {
      "text/plain": [
       "array([[3.  , 2.  , 0.25, 0.25],\n",
       "       [0.25, 0.25, 0.25, 0.25],\n",
       "       [0.25, 0.25, 0.25, 0.25],\n",
       "       [0.25, 0.25, 0.25, 0.25],\n",
       "       [0.25, 0.25, 0.25, 0.25],\n",
       "       [0.25, 0.25, 0.25, 0.25],\n",
       "       [0.25, 0.25, 0.25, 0.25],\n",
       "       [0.25, 0.25, 0.25, 0.25],\n",
       "       [0.25, 0.25, 0.25, 0.25],\n",
       "       [0.25, 0.25, 0.25, 0.25],\n",
       "       [0.25, 0.25, 0.25, 0.25],\n",
       "       [0.25, 0.25, 0.25, 0.25],\n",
       "       [0.25, 0.25, 0.25, 0.25],\n",
       "       [0.25, 0.25, 0.25, 0.25],\n",
       "       [0.25, 0.25, 0.25, 0.25],\n",
       "       [0.25, 0.25, 0.25, 0.25]])"
      ]
     },
     "execution_count": 3,
     "metadata": {},
     "output_type": "execute_result"
    }
   ],
   "source": [
    "aver = np.array([[.25] * 4] * 16)\n",
    "aver[0][:2] = [3, 2]\n",
    "aver"
   ]
  },
  {
   "cell_type": "code",
   "execution_count": 5,
   "id": "d11a5725-3b78-4654-b9bc-dfa2ac7580a2",
   "metadata": {},
   "outputs": [
    {
     "data": {
      "text/plain": [
       "OutEdgeView([(0, 1)])"
      ]
     },
     "execution_count": 5,
     "metadata": {},
     "output_type": "execute_result"
    }
   ],
   "source": [
    "g = nx.DiGraph()\n",
    "g.add_edge(0, 1)\n",
    "g.edges"
   ]
  },
  {
   "cell_type": "code",
   "execution_count": null,
   "id": "18586dd1-9108-49e9-8f43-adefe80ef34a",
   "metadata": {},
   "outputs": [],
   "source": [
    "juego"
   ]
  },
  {
   "cell_type": "code",
   "execution_count": null,
   "id": "f56c3a46-bb5f-40cf-859b-037de6584ab9",
   "metadata": {},
   "outputs": [],
   "source": []
  },
  {
   "cell_type": "code",
   "execution_count": null,
   "id": "f8a02332-24e3-41a2-83b5-234c464d0722",
   "metadata": {},
   "outputs": [],
   "source": []
  },
  {
   "cell_type": "code",
   "execution_count": null,
   "id": "a369bd4e-0544-4144-835f-f9f904c79267",
   "metadata": {},
   "outputs": [],
   "source": []
  },
  {
   "cell_type": "code",
   "execution_count": null,
   "id": "91cf1e18-3775-4400-b986-0f3c41a4de12",
   "metadata": {},
   "outputs": [],
   "source": []
  },
  {
   "cell_type": "code",
   "execution_count": null,
   "id": "f67ea8ff-6288-43fd-bc63-a5daabc047ee",
   "metadata": {},
   "outputs": [],
   "source": []
  },
  {
   "cell_type": "code",
   "execution_count": null,
   "id": "58b43516-84ea-4add-a22c-a3a898cefbb1",
   "metadata": {},
   "outputs": [],
   "source": []
  },
  {
   "cell_type": "code",
   "execution_count": null,
   "id": "5c25b39d-dcc1-4219-965d-a3e252646508",
   "metadata": {},
   "outputs": [],
   "source": []
  },
  {
   "cell_type": "code",
   "execution_count": null,
   "id": "e3536898-9492-4b64-8bf7-123eba0cc585",
   "metadata": {},
   "outputs": [],
   "source": []
  },
  {
   "cell_type": "code",
   "execution_count": null,
   "id": "cdd86f7f-af75-469e-9d32-32d161e72fa0",
   "metadata": {},
   "outputs": [],
   "source": []
  },
  {
   "cell_type": "code",
   "execution_count": 2,
   "id": "ad308401-d0af-4a5d-8ccd-34a44460787c",
   "metadata": {},
   "outputs": [
    {
     "name": "stdout",
     "output_type": "stream",
     "text": [
      "[ 0. -1. -1. -1. -1. -1. -1. -1. -1. -1. -1. -1. -1. -1. -1. -1. -1. -1.\n",
      " -1. -1. -1. -1. -1. -1. -1. -1. -1. -1. -1. -1. -1. -1. -1. -1. -1. -1.\n",
      " -1. -1. -1. -1. -1. -1. -1. -1. -1. -1. -1. -1.  0.]\n"
     ]
    }
   ],
   "source": [
    "juego_1 = Board(7)\n",
    "print(juego_1.evaluate_policy(0, -1, 0.5))\n",
    "#juego_1.plot_graph()"
   ]
  },
  {
   "cell_type": "code",
   "execution_count": null,
   "id": "d8e5e608-236b-4930-bf11-c858f5344cb3",
   "metadata": {},
   "outputs": [],
   "source": []
  },
  {
   "cell_type": "code",
   "execution_count": null,
   "id": "e9a272c1-d8c0-4edc-b822-8b786145719c",
   "metadata": {},
   "outputs": [],
   "source": []
  },
  {
   "cell_type": "code",
   "execution_count": null,
   "id": "0386051f-34cf-4834-9547-62d63be6a4e9",
   "metadata": {},
   "outputs": [],
   "source": []
  },
  {
   "cell_type": "code",
   "execution_count": null,
   "id": "ef135573-70a7-415a-8efc-39e2318c6c5c",
   "metadata": {},
   "outputs": [],
   "source": []
  },
  {
   "cell_type": "code",
   "execution_count": null,
   "id": "499d76ce-46e2-4b0d-9d2b-3b881eafb894",
   "metadata": {},
   "outputs": [],
   "source": []
  },
  {
   "cell_type": "code",
   "execution_count": null,
   "id": "80166edf-d946-41f8-b027-4821a08ce7f4",
   "metadata": {},
   "outputs": [],
   "source": []
  },
  {
   "cell_type": "code",
   "execution_count": null,
   "id": "21f77f5e-4cac-4d93-a359-f76872d70499",
   "metadata": {},
   "outputs": [],
   "source": [
    "G = nx.DiGraph()\n",
    "G.add_nodes_from(range(16))\n",
    "for k in range(1, 15):\n",
    "    G.add_edge(k, k)\n",
    "\n",
    "G.remove_edge(5, 5)\n",
    "G.remove_edge(6, 6)\n",
    "G.remove_edge(9, 9)\n",
    "G.remove_edge(10, 10)\n",
    "G.add_edge(1, 0, proba=0.25)\n",
    "G.add_edge(1, 2, proba=0.25)\n",
    "G.add_edge(1, 5, proba=0.25)\n",
    "G.add_edge(2, 1, proba=0.25)\n",
    "G.add_edge(2, 3, proba=0.25)\n",
    "G.add_edge(2, 6, proba=0.25)\n",
    "G.add_edge(3, 7, proba=0.25)\n",
    "G.add_edge(3, 2, proba=0.25)\n",
    "G.add_edge(4, 0, proba=0.25)\n",
    "G.add_edge(4, 5, proba=0.25)\n",
    "G.add_edge(4, 8, proba=0.25)\n",
    "G.add_edge(5, 1, proba=0.25)\n",
    "G.add_edge(5, 9, proba=0.25)\n",
    "G.add_edge(5, 4, proba=0.25)\n",
    "G.add_edge(5, 6, proba=0.25)\n",
    "G.add_edge(6, 7, proba=0.25)\n",
    "G.add_edge(6, 10, proba=0.25)\n",
    "G.add_edge(6, 2, proba=0.25)\n",
    "G.add_edge(6, 5, proba=0.25)\n",
    "G.add_edge(7, 3, proba=0.25)\n",
    "G.add_edge(7, 11, proba=0.25)\n",
    "G.add_edge(7, 6, proba=0.25)\n",
    "G.add_edge(8, 9, proba=0.25)\n",
    "G.add_edge(8, 4, proba=0.25)\n",
    "G.add_edge(8, 12, proba=0.25)\n",
    "G.add_edge(9, 8, proba=0.25)\n",
    "G.add_edge(9, 10, proba=0.25)\n",
    "G.add_edge(9, 5, proba=0.25)\n",
    "G.add_edge(9, 13, proba=0.25)\n",
    "G.add_edge(10, 9, proba=0.25)\n",
    "G.add_edge(10, 11, proba=0.25)\n",
    "G.add_edge(10, 6, proba=0.25)\n",
    "G.add_edge(10, 14, proba=0.25)\n",
    "G.add_edge(11, 7, proba=0.25)\n",
    "G.add_edge(11, 10, proba=0.25)\n",
    "G.add_edge(11, 15, proba=0.25)\n",
    "G.add_edge(12, 8, proba=0.25)\n",
    "G.add_edge(12, 13, proba=0.25)\n",
    "G.add_edge(13, 12, proba=0.25)\n",
    "G.add_edge(13, 14, proba=0.25)\n",
    "G.add_edge(13, 9, proba=0.25)\n",
    "G.add_edge(14, 10, proba=0.25)\n",
    "G.add_edge(14, 13, proba=0.25)\n",
    "G.add_edge(14, 15, proba=0.25)\n",
    "G.nodes"
   ]
  },
  {
   "cell_type": "code",
   "execution_count": null,
   "id": "9f2dd507-3296-4762-9ceb-0b8cf4f6eb01",
   "metadata": {},
   "outputs": [],
   "source": [
    "np.array([[k, k+1, k+2, k+3] for k in range(0, 15, 4)])"
   ]
  },
  {
   "cell_type": "code",
   "execution_count": null,
   "id": "75f3d484-8bfd-41f6-9c27-840ffb09b9f4",
   "metadata": {},
   "outputs": [],
   "source": [
    "nx.draw(G, with_labels=True)"
   ]
  },
  {
   "cell_type": "code",
   "execution_count": null,
   "id": "1faf2ed0-5e83-4825-ad3c-b97197cdd88f",
   "metadata": {},
   "outputs": [],
   "source": [
    "G.out_edges(1)"
   ]
  },
  {
   "cell_type": "code",
   "execution_count": null,
   "id": "c20339eb-0819-407d-9614-aad7e5bd8eae",
   "metadata": {},
   "outputs": [],
   "source": [
    "SIZE = 10 ** 4\n",
    "index = np.arange(SIZE)\n",
    "temp = np.random.normal(37.5, 3, SIZE)\n",
    "transition = np.log(index + 1)"
   ]
  },
  {
   "cell_type": "code",
   "execution_count": null,
   "id": "5d0b8821-3b7c-483d-a54d-8e254a906701",
   "metadata": {},
   "outputs": [],
   "source": [
    "fig = go.Figure()\n",
    "#fig.add_trace(go.Scatter(x=index, y=temp))\n",
    "fig.add_trace(go.Scatter(x=index, y=transition + temp))\n",
    "fig.show()"
   ]
  },
  {
   "cell_type": "code",
   "execution_count": null,
   "id": "a91c7fdf-195d-4772-ba2f-f1bd04469225",
   "metadata": {},
   "outputs": [],
   "source": []
  }
 ],
 "metadata": {
  "kernelspec": {
   "display_name": "opti-4phPFOOz-py3.9",
   "language": "python",
   "name": "opti-4phpfooz-py3.9"
  },
  "language_info": {
   "codemirror_mode": {
    "name": "ipython",
    "version": 3
   },
   "file_extension": ".py",
   "mimetype": "text/x-python",
   "name": "python",
   "nbconvert_exporter": "python",
   "pygments_lexer": "ipython3",
   "version": "3.9.17"
  }
 },
 "nbformat": 4,
 "nbformat_minor": 5
}
