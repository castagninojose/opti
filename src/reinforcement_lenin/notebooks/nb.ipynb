{
 "cells": [
  {
   "cell_type": "code",
   "execution_count": 1,
   "id": "9d112ba3-e430-40b1-9766-8ea049c5ebcf",
   "metadata": {
    "scrolled": true
   },
   "outputs": [],
   "source": [
    "import numpy as np\n",
    "import networkx as nx\n",
    "#import matplotlib.pyplot as plt\n",
    "\n",
    "from src.reinforcement_lenin.grid import Board"
   ]
  },
  {
   "cell_type": "code",
   "execution_count": 2,
   "id": "f9e5bed5-fdab-4d2c-ac9e-5bd6aa6dbe7d",
   "metadata": {},
   "outputs": [
    {
     "data": {
      "text/plain": [
       "1"
      ]
     },
     "execution_count": 2,
     "metadata": {},
     "output_type": "execute_result"
    }
   ],
   "source": [
    "juego_1 = Board(3)\n",
    "#juego_1.plot_graph()\n",
    "juego_1.get_proba(5, 8, \"down\")"
   ]
  },
  {
   "cell_type": "code",
   "execution_count": 3,
   "id": "ad308401-d0af-4a5d-8ccd-34a44460787c",
   "metadata": {},
   "outputs": [
    {
     "ename": "KeyError",
     "evalue": "0",
     "output_type": "error",
     "traceback": [
      "\u001b[0;31m---------------------------------------------------------------------------\u001b[0m",
      "\u001b[0;31mKeyError\u001b[0m                                  Traceback (most recent call last)",
      "Cell \u001b[0;32mIn[3], line 2\u001b[0m\n\u001b[1;32m      1\u001b[0m juego_1 \u001b[38;5;241m=\u001b[39m Board(\u001b[38;5;241m7\u001b[39m)\n\u001b[0;32m----> 2\u001b[0m \u001b[38;5;28mprint\u001b[39m(\u001b[43mjuego_1\u001b[49m\u001b[38;5;241;43m.\u001b[39;49m\u001b[43mevaluate_policy\u001b[49m\u001b[43m(\u001b[49m\u001b[38;5;241;43m0\u001b[39;49m\u001b[43m,\u001b[49m\u001b[43m \u001b[49m\u001b[38;5;241;43m-\u001b[39;49m\u001b[38;5;241;43m1\u001b[39;49m\u001b[43m,\u001b[49m\u001b[43m \u001b[49m\u001b[38;5;241;43m0.5\u001b[39;49m\u001b[43m)\u001b[49m)\n\u001b[1;32m      3\u001b[0m \u001b[38;5;66;03m#juego_1.plot_graph()\u001b[39;00m\n",
      "File \u001b[0;32m~/git-repos/opti/src/reinforcement_lenin/grid.py:132\u001b[0m, in \u001b[0;36mBoard.evaluate_policy\u001b[0;34m(self, discount_rate, reward, tolerance)\u001b[0m\n\u001b[1;32m    128\u001b[0m v \u001b[38;5;241m=\u001b[39m policy_value[state]\n\u001b[1;32m    129\u001b[0m \u001b[38;5;28;01mfor\u001b[39;00m action \u001b[38;5;129;01min\u001b[39;00m ACTIONS:\n\u001b[1;32m    130\u001b[0m     \u001b[38;5;66;03m#breakpoint()\u001b[39;00m\n\u001b[1;32m    131\u001b[0m     expected_value \u001b[38;5;241m=\u001b[39m \u001b[38;5;28msum\u001b[39m(\n\u001b[0;32m--> 132\u001b[0m         [\n\u001b[1;32m    133\u001b[0m             \u001b[38;5;28mself\u001b[39m\u001b[38;5;241m.\u001b[39mvalue_function(action, state, f, reward, discount_rate)\n\u001b[1;32m    134\u001b[0m             \u001b[38;5;66;03m# for f in self.non_terminals\u001b[39;00m\n\u001b[1;32m    135\u001b[0m             \u001b[38;5;28;01mfor\u001b[39;00m f \u001b[38;5;129;01min\u001b[39;00m \u001b[38;5;28mself\u001b[39m\u001b[38;5;241m.\u001b[39mboard\u001b[38;5;241m.\u001b[39mkeys()\n\u001b[1;32m    136\u001b[0m         ]\n\u001b[1;32m    137\u001b[0m     )\n\u001b[1;32m    138\u001b[0m     partial_sum \u001b[38;5;241m=\u001b[39m \u001b[38;5;28msum\u001b[39m(\n\u001b[1;32m    139\u001b[0m         [\n\u001b[1;32m    140\u001b[0m             \u001b[38;5;28mself\u001b[39m\u001b[38;5;241m.\u001b[39mpolicy[state][action] \u001b[38;5;241m*\u001b[39m expected_value\n\u001b[1;32m    141\u001b[0m             \u001b[38;5;28;01mfor\u001b[39;00m action \u001b[38;5;129;01min\u001b[39;00m ACTIONS\n\u001b[1;32m    142\u001b[0m         ]\n\u001b[1;32m    143\u001b[0m     )\n\u001b[1;32m    144\u001b[0m policy_value[state] \u001b[38;5;241m=\u001b[39m partial_sum\n",
      "File \u001b[0;32m~/git-repos/opti/src/reinforcement_lenin/grid.py:133\u001b[0m, in \u001b[0;36m<listcomp>\u001b[0;34m(.0)\u001b[0m\n\u001b[1;32m    128\u001b[0m v \u001b[38;5;241m=\u001b[39m policy_value[state]\n\u001b[1;32m    129\u001b[0m \u001b[38;5;28;01mfor\u001b[39;00m action \u001b[38;5;129;01min\u001b[39;00m ACTIONS:\n\u001b[1;32m    130\u001b[0m     \u001b[38;5;66;03m#breakpoint()\u001b[39;00m\n\u001b[1;32m    131\u001b[0m     expected_value \u001b[38;5;241m=\u001b[39m \u001b[38;5;28msum\u001b[39m(\n\u001b[1;32m    132\u001b[0m         [\n\u001b[0;32m--> 133\u001b[0m             \u001b[38;5;28;43mself\u001b[39;49m\u001b[38;5;241;43m.\u001b[39;49m\u001b[43mvalue_function\u001b[49m\u001b[43m(\u001b[49m\u001b[43maction\u001b[49m\u001b[43m,\u001b[49m\u001b[43m \u001b[49m\u001b[43mstate\u001b[49m\u001b[43m,\u001b[49m\u001b[43m \u001b[49m\u001b[43mf\u001b[49m\u001b[43m,\u001b[49m\u001b[43m \u001b[49m\u001b[43mreward\u001b[49m\u001b[43m,\u001b[49m\u001b[43m \u001b[49m\u001b[43mdiscount_rate\u001b[49m\u001b[43m)\u001b[49m\n\u001b[1;32m    134\u001b[0m             \u001b[38;5;66;03m# for f in self.non_terminals\u001b[39;00m\n\u001b[1;32m    135\u001b[0m             \u001b[38;5;28;01mfor\u001b[39;00m f \u001b[38;5;129;01min\u001b[39;00m \u001b[38;5;28mself\u001b[39m\u001b[38;5;241m.\u001b[39mboard\u001b[38;5;241m.\u001b[39mkeys()\n\u001b[1;32m    136\u001b[0m         ]\n\u001b[1;32m    137\u001b[0m     )\n\u001b[1;32m    138\u001b[0m     partial_sum \u001b[38;5;241m=\u001b[39m \u001b[38;5;28msum\u001b[39m(\n\u001b[1;32m    139\u001b[0m         [\n\u001b[1;32m    140\u001b[0m             \u001b[38;5;28mself\u001b[39m\u001b[38;5;241m.\u001b[39mpolicy[state][action] \u001b[38;5;241m*\u001b[39m expected_value\n\u001b[1;32m    141\u001b[0m             \u001b[38;5;28;01mfor\u001b[39;00m action \u001b[38;5;129;01min\u001b[39;00m ACTIONS\n\u001b[1;32m    142\u001b[0m         ]\n\u001b[1;32m    143\u001b[0m     )\n\u001b[1;32m    144\u001b[0m policy_value[state] \u001b[38;5;241m=\u001b[39m partial_sum\n",
      "File \u001b[0;32m~/git-repos/opti/src/reinforcement_lenin/grid.py:120\u001b[0m, in \u001b[0;36mBoard.value_function\u001b[0;34m(self, action, state, future_state, reward, discount_rate)\u001b[0m\n\u001b[1;32m    118\u001b[0m \u001b[38;5;28;01mdef\u001b[39;00m \u001b[38;5;21mvalue_function\u001b[39m(\u001b[38;5;28mself\u001b[39m, action, state, future_state, reward, discount_rate):\n\u001b[1;32m    119\u001b[0m     proba \u001b[38;5;241m=\u001b[39m \u001b[38;5;28mself\u001b[39m\u001b[38;5;241m.\u001b[39mget_proba(state, future_state, action, reward\u001b[38;5;241m=\u001b[39mreward)\n\u001b[0;32m--> 120\u001b[0m     \u001b[38;5;28;01mreturn\u001b[39;00m (\u001b[38;5;28;43mself\u001b[39;49m\u001b[38;5;241;43m.\u001b[39;49m\u001b[43mpolicy\u001b[49m\u001b[43m[\u001b[49m\u001b[43mfuture_state\u001b[49m\u001b[43m]\u001b[49m[action] \u001b[38;5;241m*\u001b[39m discount_rate \u001b[38;5;241m+\u001b[39m reward) \u001b[38;5;241m*\u001b[39m proba\n",
      "\u001b[0;31mKeyError\u001b[0m: 0"
     ]
    }
   ],
   "source": [
    "juego_1 = Board(7)\n",
    "print(juego_1.evaluate_policy(0, -1, 0.5))\n",
    "#juego_1.plot_graph()"
   ]
  },
  {
   "cell_type": "code",
   "execution_count": 4,
   "id": "df35f435-0b0a-4e53-93ab-afcf1e9c0cd7",
   "metadata": {},
   "outputs": [
    {
     "data": {
      "text/plain": [
       "{'left': 0.5,\n",
       " 'up': 0.5,\n",
       " 'right': 0,\n",
       " 'down': 0,\n",
       " 1: {'left': 0.25, 'up': 0.25, 'right': 0.25, 'down': 0.25},\n",
       " 2: {'left': 0.25, 'up': 0.25, 'right': 0.25, 'down': 0.25},\n",
       " 3: {'left': 0.25, 'up': 0.25, 'right': 0.25, 'down': 0.25},\n",
       " 4: {'left': 0.25, 'up': 0.25, 'right': 0.25, 'down': 0.25},\n",
       " 5: {'left': 0.25, 'up': 0.25, 'right': 0.25, 'down': 0.25},\n",
       " 6: {'left': 0.25, 'up': 0.25, 'right': 0.25, 'down': 0.25},\n",
       " 7: {'left': 0.25, 'up': 0.25, 'right': 0.25, 'down': 0.25},\n",
       " 8: {'left': 0.25, 'up': 0.25, 'right': 0.25, 'down': 0.25},\n",
       " 9: {'left': 0.25, 'up': 0.25, 'right': 0.25, 'down': 0.25},\n",
       " 10: {'left': 0.25, 'up': 0.25, 'right': 0.25, 'down': 0.25},\n",
       " 11: {'left': 0.25, 'up': 0.25, 'right': 0.25, 'down': 0.25},\n",
       " 12: {'left': 0.25, 'up': 0.25, 'right': 0.25, 'down': 0.25},\n",
       " 13: {'left': 0.25, 'up': 0.25, 'right': 0.25, 'down': 0.25},\n",
       " 14: {'left': 0.25, 'up': 0.25, 'right': 0.25, 'down': 0.25},\n",
       " 15: {'left': 0.25, 'up': 0.25, 'right': 0.25, 'down': 0.25},\n",
       " 16: {'left': 0.25, 'up': 0.25, 'right': 0.25, 'down': 0.25},\n",
       " 17: {'left': 0.25, 'up': 0.25, 'right': 0.25, 'down': 0.25},\n",
       " 18: {'left': 0.25, 'up': 0.25, 'right': 0.25, 'down': 0.25},\n",
       " 19: {'left': 0.25, 'up': 0.25, 'right': 0.25, 'down': 0.25},\n",
       " 20: {'left': 0.25, 'up': 0.25, 'right': 0.25, 'down': 0.25},\n",
       " 21: {'left': 0.25, 'up': 0.25, 'right': 0.25, 'down': 0.25},\n",
       " 22: {'left': 0.25, 'up': 0.25, 'right': 0.25, 'down': 0.25},\n",
       " 23: {'left': 0.25, 'up': 0.25, 'right': 0.25, 'down': 0.25},\n",
       " 24: {'left': 0.25, 'up': 0.25, 'right': 0.25, 'down': 0.25},\n",
       " 25: {'left': 0.25, 'up': 0.25, 'right': 0.25, 'down': 0.25},\n",
       " 26: {'left': 0.25, 'up': 0.25, 'right': 0.25, 'down': 0.25},\n",
       " 27: {'left': 0.25, 'up': 0.25, 'right': 0.25, 'down': 0.25},\n",
       " 28: {'left': 0.25, 'up': 0.25, 'right': 0.25, 'down': 0.25},\n",
       " 29: {'left': 0.25, 'up': 0.25, 'right': 0.25, 'down': 0.25},\n",
       " 30: {'left': 0.25, 'up': 0.25, 'right': 0.25, 'down': 0.25},\n",
       " 31: {'left': 0.25, 'up': 0.25, 'right': 0.25, 'down': 0.25},\n",
       " 32: {'left': 0.25, 'up': 0.25, 'right': 0.25, 'down': 0.25},\n",
       " 33: {'left': 0.25, 'up': 0.25, 'right': 0.25, 'down': 0.25},\n",
       " 34: {'left': 0.25, 'up': 0.25, 'right': 0.25, 'down': 0.25},\n",
       " 35: {'left': 0.25, 'up': 0.25, 'right': 0.25, 'down': 0.25},\n",
       " 36: {'left': 0.25, 'up': 0.25, 'right': 0.25, 'down': 0.25},\n",
       " 37: {'left': 0.25, 'up': 0.25, 'right': 0.25, 'down': 0.25},\n",
       " 38: {'left': 0.25, 'up': 0.25, 'right': 0.25, 'down': 0.25},\n",
       " 39: {'left': 0.25, 'up': 0.25, 'right': 0.25, 'down': 0.25},\n",
       " 40: {'left': 0.25, 'up': 0.25, 'right': 0.25, 'down': 0.25},\n",
       " 41: {'left': 0.25, 'up': 0.25, 'right': 0.25, 'down': 0.25},\n",
       " 42: {'left': 0.25, 'up': 0.25, 'right': 0.25, 'down': 0.25},\n",
       " 43: {'left': 0.25, 'up': 0.25, 'right': 0.25, 'down': 0.25},\n",
       " 44: {'left': 0.25, 'up': 0.25, 'right': 0.25, 'down': 0.25},\n",
       " 45: {'left': 0.25, 'up': 0.25, 'right': 0.25, 'down': 0.25},\n",
       " 46: {'left': 0.25, 'up': 0.25, 'right': 0.25, 'down': 0.25},\n",
       " 47: {'left': 0.25, 'up': 0.25, 'right': 0.25, 'down': 0.25},\n",
       " 48: {'left': 0, 'up': 0, 'right': 0.5, 'down': 0.5}}"
      ]
     },
     "execution_count": 4,
     "metadata": {},
     "output_type": "execute_result"
    }
   ],
   "source": [
    "juego_1.policy"
   ]
  },
  {
   "cell_type": "code",
   "execution_count": 8,
   "id": "3d6553ed-6494-408a-a45d-608729dc7968",
   "metadata": {},
   "outputs": [
    {
     "ename": "KeyError",
     "evalue": "'left'",
     "output_type": "error",
     "traceback": [
      "\u001b[0;31m---------------------------------------------------------------------------\u001b[0m",
      "\u001b[0;31mKeyError\u001b[0m                                  Traceback (most recent call last)",
      "Cell \u001b[0;32mIn[8], line 3\u001b[0m\n\u001b[1;32m      1\u001b[0m politica_init \u001b[38;5;241m=\u001b[39m [\u001b[38;5;241m.25\u001b[39m, \u001b[38;5;241m.25\u001b[39m, \u001b[38;5;241m.25\u001b[39m, \u001b[38;5;241m.25\u001b[39m]\n\u001b[1;32m      2\u001b[0m politica \u001b[38;5;241m=\u001b[39m [politica_init \u001b[38;5;28;01mfor\u001b[39;00m i \u001b[38;5;129;01min\u001b[39;00m \u001b[38;5;28mrange\u001b[39m(\u001b[38;5;241m14\u001b[39m)]\n\u001b[0;32m----> 3\u001b[0m \u001b[43mjuego_1\u001b[49m\u001b[38;5;241;43m.\u001b[39;49m\u001b[43mevaluate_policy\u001b[49m\u001b[43m(\u001b[49m\u001b[43mpolitica\u001b[49m\u001b[43m,\u001b[49m\u001b[43m \u001b[49m\u001b[38;5;241;43m0.5\u001b[39;49m\u001b[43m,\u001b[49m\u001b[43m \u001b[49m\u001b[38;5;241;43m-\u001b[39;49m\u001b[38;5;241;43m1\u001b[39;49m\u001b[43m,\u001b[49m\u001b[43m \u001b[49m\u001b[38;5;241;43m0.5\u001b[39;49m\u001b[43m)\u001b[49m\n",
      "File \u001b[0;32m~/git-repos/opti/src/reinforcement_lenin/grid.py:52\u001b[0m, in \u001b[0;36mBoard.evaluate_policy\u001b[0;34m(self, policy, discount_rate, reward, tolerance)\u001b[0m\n\u001b[1;32m     50\u001b[0m \u001b[38;5;28;01mfor\u001b[39;00m future_state \u001b[38;5;129;01min\u001b[39;00m \u001b[38;5;28mrange\u001b[39m(\u001b[38;5;28mlen\u001b[39m(policy)):\n\u001b[1;32m     51\u001b[0m     aux \u001b[38;5;241m=\u001b[39m np\u001b[38;5;241m.\u001b[39mzeros(\u001b[38;5;28mrange\u001b[39m(\u001b[38;5;28mlen\u001b[39m(policy)))\n\u001b[0;32m---> 52\u001b[0m     aux[future_state] \u001b[38;5;241m=\u001b[39m \u001b[38;5;28;43mself\u001b[39;49m\u001b[38;5;241;43m.\u001b[39;49m\u001b[43mget_proba\u001b[49m\u001b[43m(\u001b[49m\n\u001b[1;32m     53\u001b[0m \u001b[43m        \u001b[49m\u001b[43mstate\u001b[49m\u001b[43m,\u001b[49m\u001b[43m \u001b[49m\u001b[43mfuture_state\u001b[49m\u001b[43m,\u001b[49m\u001b[43m \u001b[49m\u001b[43maction\u001b[49m\u001b[43m,\u001b[49m\u001b[43m \u001b[49m\u001b[43mreward\u001b[49m\n\u001b[1;32m     54\u001b[0m \u001b[43m    \u001b[49m\u001b[43m)\u001b[49m \u001b[38;5;241m*\u001b[39m (reward \u001b[38;5;241m+\u001b[39m discount_rate \u001b[38;5;241m*\u001b[39m policy_value[future_state])\n\u001b[1;32m     55\u001b[0m     aux \u001b[38;5;241m=\u001b[39m \u001b[38;5;28msum\u001b[39m(aux)\n\u001b[1;32m     56\u001b[0m aux2 \u001b[38;5;241m=\u001b[39m np\u001b[38;5;241m.\u001b[39mzeros(\u001b[38;5;28mlen\u001b[39m(policy[state]))\n",
      "File \u001b[0;32m~/git-repos/opti/src/reinforcement_lenin/grid.py:31\u001b[0m, in \u001b[0;36mBoard.get_proba\u001b[0;34m(self, state, future_state, action, reward)\u001b[0m\n\u001b[1;32m     28\u001b[0m \u001b[38;5;28;01mdef\u001b[39;00m \u001b[38;5;21mget_proba\u001b[39m(\n\u001b[1;32m     29\u001b[0m     \u001b[38;5;28mself\u001b[39m, state, future_state, action, reward\u001b[38;5;241m=\u001b[39m\u001b[38;5;241m-\u001b[39m\u001b[38;5;241m1\u001b[39m\n\u001b[1;32m     30\u001b[0m ):  \u001b[38;5;66;03m# pylint: disable=unused-argument\u001b[39;00m\n\u001b[0;32m---> 31\u001b[0m     \u001b[38;5;28;01mif\u001b[39;00m \u001b[38;5;28;43mself\u001b[39;49m\u001b[38;5;241;43m.\u001b[39;49m\u001b[43mboard\u001b[49m\u001b[43m[\u001b[49m\u001b[43mstate\u001b[49m\u001b[43m]\u001b[49m\u001b[43m[\u001b[49m\u001b[43maction\u001b[49m\u001b[43m]\u001b[49m \u001b[38;5;241m==\u001b[39m future_state:\n\u001b[1;32m     32\u001b[0m         \u001b[38;5;28;01mreturn\u001b[39;00m \u001b[38;5;241m1\u001b[39m\n\u001b[1;32m     33\u001b[0m     \u001b[38;5;28;01melse\u001b[39;00m:\n",
      "\u001b[0;31mKeyError\u001b[0m: 'left'"
     ]
    }
   ],
   "source": [
    "politica_init = [.25, .25, .25, .25]\n",
    "politica = [politica_init for i in range(14)]\n",
    "juego_1.evaluate_policy(politica, 0.5, -1, 0.5)"
   ]
  },
  {
   "cell_type": "code",
   "execution_count": 13,
   "id": "5dcb9c82-c4bf-45ed-888f-de404a63456b",
   "metadata": {},
   "outputs": [
    {
     "ename": "TypeError",
     "evalue": "'NoneType' object is not subscriptable",
     "output_type": "error",
     "traceback": [
      "\u001b[0;31m---------------------------------------------------------------------------\u001b[0m",
      "\u001b[0;31mTypeError\u001b[0m                                 Traceback (most recent call last)",
      "Cell \u001b[0;32mIn[13], line 1\u001b[0m\n\u001b[0;32m----> 1\u001b[0m \u001b[38;5;28;43mlist\u001b[39;49m\u001b[43m(\u001b[49m\u001b[43mjuego_1\u001b[49m\u001b[38;5;241;43m.\u001b[39;49m\u001b[43mgraph\u001b[49m\u001b[38;5;241;43m.\u001b[39;49m\u001b[43mnodes\u001b[49m\u001b[43m)\u001b[49m\u001b[38;5;241;43m.\u001b[39;49m\u001b[43msort\u001b[49m\u001b[43m(\u001b[49m\u001b[43m)\u001b[49m\u001b[43m[\u001b[49m\u001b[38;5;241;43m1\u001b[39;49m\u001b[43m:\u001b[49m\u001b[38;5;241;43m-\u001b[39;49m\u001b[38;5;241;43m1\u001b[39;49m\u001b[43m]\u001b[49m\n",
      "\u001b[0;31mTypeError\u001b[0m: 'NoneType' object is not subscriptable"
     ]
    }
   ],
   "source": [
    "list(juego_1.graph.nodes).sort()[1:-1]"
   ]
  },
  {
   "cell_type": "code",
   "execution_count": 18,
   "id": "07c6e575-c325-474c-b573-1728f14ba370",
   "metadata": {},
   "outputs": [
    {
     "data": {
      "text/plain": [
       "[1, 2, 3, 4, 5, 6, 7, 8, 9, 10, 11, 12, 13, 14]"
      ]
     },
     "execution_count": 18,
     "metadata": {},
     "output_type": "execute_result"
    }
   ],
   "source": [
    "sorted(list(juego_1.graph.nodes))[1:-1]"
   ]
  },
  {
   "cell_type": "code",
   "execution_count": null,
   "id": "e1a76991-2f25-4759-9dbb-3414b4cab3a2",
   "metadata": {
    "scrolled": true
   },
   "outputs": [],
   "source": [
    "#juego_1.get_proba(5, 9, 'down')"
   ]
  },
  {
   "cell_type": "code",
   "execution_count": null,
   "id": "aa9d9fbf-061d-433a-aa9e-e4ff6aa2160a",
   "metadata": {},
   "outputs": [],
   "source": []
  },
  {
   "cell_type": "code",
   "execution_count": null,
   "id": "6d04d058-31b8-4b97-bdd7-d5d1bb2a0773",
   "metadata": {},
   "outputs": [],
   "source": []
  },
  {
   "cell_type": "code",
   "execution_count": null,
   "id": "5d755c91-6f42-4d8c-a2c9-b64bee1279f0",
   "metadata": {},
   "outputs": [],
   "source": []
  },
  {
   "cell_type": "code",
   "execution_count": null,
   "id": "d11a5725-3b78-4654-b9bc-dfa2ac7580a2",
   "metadata": {},
   "outputs": [],
   "source": []
  },
  {
   "cell_type": "code",
   "execution_count": null,
   "id": "18586dd1-9108-49e9-8f43-adefe80ef34a",
   "metadata": {},
   "outputs": [],
   "source": []
  },
  {
   "cell_type": "code",
   "execution_count": null,
   "id": "f56c3a46-bb5f-40cf-859b-037de6584ab9",
   "metadata": {},
   "outputs": [],
   "source": []
  },
  {
   "cell_type": "code",
   "execution_count": null,
   "id": "f8a02332-24e3-41a2-83b5-234c464d0722",
   "metadata": {},
   "outputs": [],
   "source": []
  },
  {
   "cell_type": "code",
   "execution_count": null,
   "id": "a369bd4e-0544-4144-835f-f9f904c79267",
   "metadata": {},
   "outputs": [],
   "source": []
  },
  {
   "cell_type": "code",
   "execution_count": null,
   "id": "91cf1e18-3775-4400-b986-0f3c41a4de12",
   "metadata": {},
   "outputs": [],
   "source": []
  },
  {
   "cell_type": "code",
   "execution_count": null,
   "id": "f67ea8ff-6288-43fd-bc63-a5daabc047ee",
   "metadata": {},
   "outputs": [],
   "source": []
  },
  {
   "cell_type": "code",
   "execution_count": null,
   "id": "58b43516-84ea-4add-a22c-a3a898cefbb1",
   "metadata": {},
   "outputs": [],
   "source": []
  },
  {
   "cell_type": "code",
   "execution_count": null,
   "id": "5c25b39d-dcc1-4219-965d-a3e252646508",
   "metadata": {},
   "outputs": [],
   "source": []
  },
  {
   "cell_type": "code",
   "execution_count": null,
   "id": "e3536898-9492-4b64-8bf7-123eba0cc585",
   "metadata": {},
   "outputs": [],
   "source": []
  },
  {
   "cell_type": "code",
   "execution_count": null,
   "id": "cdd86f7f-af75-469e-9d32-32d161e72fa0",
   "metadata": {},
   "outputs": [],
   "source": []
  },
  {
   "cell_type": "code",
   "execution_count": null,
   "id": "d8e5e608-236b-4930-bf11-c858f5344cb3",
   "metadata": {},
   "outputs": [],
   "source": []
  },
  {
   "cell_type": "code",
   "execution_count": null,
   "id": "e9a272c1-d8c0-4edc-b822-8b786145719c",
   "metadata": {},
   "outputs": [],
   "source": []
  },
  {
   "cell_type": "code",
   "execution_count": null,
   "id": "0386051f-34cf-4834-9547-62d63be6a4e9",
   "metadata": {},
   "outputs": [],
   "source": []
  },
  {
   "cell_type": "code",
   "execution_count": null,
   "id": "ef135573-70a7-415a-8efc-39e2318c6c5c",
   "metadata": {},
   "outputs": [],
   "source": []
  },
  {
   "cell_type": "code",
   "execution_count": null,
   "id": "499d76ce-46e2-4b0d-9d2b-3b881eafb894",
   "metadata": {},
   "outputs": [],
   "source": []
  },
  {
   "cell_type": "code",
   "execution_count": null,
   "id": "80166edf-d946-41f8-b027-4821a08ce7f4",
   "metadata": {},
   "outputs": [],
   "source": []
  },
  {
   "cell_type": "code",
   "execution_count": null,
   "id": "21f77f5e-4cac-4d93-a359-f76872d70499",
   "metadata": {},
   "outputs": [],
   "source": [
    "G = nx.DiGraph()\n",
    "G.add_nodes_from(range(16))\n",
    "for k in range(1, 15):\n",
    "    G.add_edge(k, k)\n",
    "\n",
    "G.remove_edge(5, 5)\n",
    "G.remove_edge(6, 6)\n",
    "G.remove_edge(9, 9)\n",
    "G.remove_edge(10, 10)\n",
    "G.add_edge(1, 0, proba=0.25)\n",
    "G.add_edge(1, 2, proba=0.25)\n",
    "G.add_edge(1, 5, proba=0.25)\n",
    "G.add_edge(2, 1, proba=0.25)\n",
    "G.add_edge(2, 3, proba=0.25)\n",
    "G.add_edge(2, 6, proba=0.25)\n",
    "G.add_edge(3, 7, proba=0.25)\n",
    "G.add_edge(3, 2, proba=0.25)\n",
    "G.add_edge(4, 0, proba=0.25)\n",
    "G.add_edge(4, 5, proba=0.25)\n",
    "G.add_edge(4, 8, proba=0.25)\n",
    "G.add_edge(5, 1, proba=0.25)\n",
    "G.add_edge(5, 9, proba=0.25)\n",
    "G.add_edge(5, 4, proba=0.25)\n",
    "G.add_edge(5, 6, proba=0.25)\n",
    "G.add_edge(6, 7, proba=0.25)\n",
    "G.add_edge(6, 10, proba=0.25)\n",
    "G.add_edge(6, 2, proba=0.25)\n",
    "G.add_edge(6, 5, proba=0.25)\n",
    "G.add_edge(7, 3, proba=0.25)\n",
    "G.add_edge(7, 11, proba=0.25)\n",
    "G.add_edge(7, 6, proba=0.25)\n",
    "G.add_edge(8, 9, proba=0.25)\n",
    "G.add_edge(8, 4, proba=0.25)\n",
    "G.add_edge(8, 12, proba=0.25)\n",
    "G.add_edge(9, 8, proba=0.25)\n",
    "G.add_edge(9, 10, proba=0.25)\n",
    "G.add_edge(9, 5, proba=0.25)\n",
    "G.add_edge(9, 13, proba=0.25)\n",
    "G.add_edge(10, 9, proba=0.25)\n",
    "G.add_edge(10, 11, proba=0.25)\n",
    "G.add_edge(10, 6, proba=0.25)\n",
    "G.add_edge(10, 14, proba=0.25)\n",
    "G.add_edge(11, 7, proba=0.25)\n",
    "G.add_edge(11, 10, proba=0.25)\n",
    "G.add_edge(11, 15, proba=0.25)\n",
    "G.add_edge(12, 8, proba=0.25)\n",
    "G.add_edge(12, 13, proba=0.25)\n",
    "G.add_edge(13, 12, proba=0.25)\n",
    "G.add_edge(13, 14, proba=0.25)\n",
    "G.add_edge(13, 9, proba=0.25)\n",
    "G.add_edge(14, 10, proba=0.25)\n",
    "G.add_edge(14, 13, proba=0.25)\n",
    "G.add_edge(14, 15, proba=0.25)\n",
    "G.nodes"
   ]
  },
  {
   "cell_type": "code",
   "execution_count": null,
   "id": "9f2dd507-3296-4762-9ceb-0b8cf4f6eb01",
   "metadata": {},
   "outputs": [],
   "source": [
    "np.array([[k, k+1, k+2, k+3] for k in range(0, 15, 4)])"
   ]
  },
  {
   "cell_type": "code",
   "execution_count": null,
   "id": "75f3d484-8bfd-41f6-9c27-840ffb09b9f4",
   "metadata": {},
   "outputs": [],
   "source": [
    "nx.draw(G, with_labels=True)"
   ]
  },
  {
   "cell_type": "code",
   "execution_count": null,
   "id": "1faf2ed0-5e83-4825-ad3c-b97197cdd88f",
   "metadata": {},
   "outputs": [],
   "source": [
    "G.out_edges(1)"
   ]
  },
  {
   "cell_type": "code",
   "execution_count": null,
   "id": "c20339eb-0819-407d-9614-aad7e5bd8eae",
   "metadata": {},
   "outputs": [],
   "source": [
    "SIZE = 10 ** 4\n",
    "index = np.arange(SIZE)\n",
    "temp = np.random.normal(37.5, 3, SIZE)\n",
    "transition = np.log(index + 1)"
   ]
  },
  {
   "cell_type": "code",
   "execution_count": null,
   "id": "5d0b8821-3b7c-483d-a54d-8e254a906701",
   "metadata": {},
   "outputs": [],
   "source": [
    "fig = go.Figure()\n",
    "#fig.add_trace(go.Scatter(x=index, y=temp))\n",
    "fig.add_trace(go.Scatter(x=index, y=transition + temp))\n",
    "fig.show()"
   ]
  },
  {
   "cell_type": "code",
   "execution_count": null,
   "id": "a91c7fdf-195d-4772-ba2f-f1bd04469225",
   "metadata": {},
   "outputs": [],
   "source": []
  }
 ],
 "metadata": {
  "kernelspec": {
   "display_name": "opti-4phPFOOz-py3.9",
   "language": "python",
   "name": "opti-4phpfooz-py3.9"
  },
  "language_info": {
   "codemirror_mode": {
    "name": "ipython",
    "version": 3
   },
   "file_extension": ".py",
   "mimetype": "text/x-python",
   "name": "python",
   "nbconvert_exporter": "python",
   "pygments_lexer": "ipython3",
   "version": "3.9.17"
  }
 },
 "nbformat": 4,
 "nbformat_minor": 5
}
