{
 "cells": [
  {
   "cell_type": "markdown",
   "id": "af24a834-3129-4903-b8ce-fb4a2dbd522c",
   "metadata": {},
   "source": [
    "<h4><center>Trabajo Final - Optimización</center></h4>\n",
    "<h4><center>Departamento de Matemática - FCEN</center></h4>\n",
    "<h1><center>Aprendizaje por refuerzo</center></h1>\n",
    "<h3><center>Integrantes</center></h3>\n",
    "<center> Julio Padra, Ayelén Campero y José Castagnino </center>"
   ]
  },
  {
   "attachments": {},
   "cell_type": "markdown",
   "id": "3357424d-f173-49ce-b5fd-c8cf9471396a",
   "metadata": {},
   "source": [
    "<h1><center>Introducción</center></h1>\n",
    "\n",
    "Elegimos tabajar sobre Reinforcment Learning ya que es una forma de aprendizaje automatizado que no está tan difundida como otras. Se basa en la idea de aprender mediante la interacción con el ambiente.\n",
    "\n",
    "En un típico escenario de aprendizaje por refuerzo, un agente pasará del estado $s \\in S$ al estado $s' \\in S$ luego de realizar la acción $a \\in A$ obteniendo una recompensa $r \\in R$ que retroalimenta al agente, como podemos ver en el diagrama.\n",
    "\n",
    "De esta manera nuestro agente va aprendiendo llegando a los distintos estados y obteniendo las correspondientes recompensas.\n",
    "\n",
    "<div>\n",
    "<center>\n",
    "<img src=\"reinforcement_learning.png\" width=\"420\"/>\n",
    "<figcaption align = \"center\"> Diagrama de interacción agente-ambiente en un proceso de desición de Markov. </figcaption>\n",
    "</center>\n",
    "</div>"
   ]
  },
  {
   "cell_type": "markdown",
   "id": "012a8b3c-dd67-4499-b79f-ba452a87d05f",
   "metadata": {},
   "source": [
    "Ésta interacción genera una sucesión de estados, acciones y recompensas, que llamaremos $\\{S_t, A_t, R_t\\}$ para cada tiempo $t$\n",
    "\n",
    "Para lograr que el agente aprenda del ambiente, hay dos maneras de hacerlo, dependiendo de si el agente conoce al detalle su ambiente o sólo parcialmente.\n",
    "\n",
    "##### Aprendizaje reforzado basado en modelos:\n",
    "\n",
    "Cuando se conoce en detalle el ambiente y sus reglas de juego tendremos un algoritmo de aprendizaje reforzado basado en modelos. Un ejemplo de un modelo de un ambiente es precisamente el ejemplo 4.1 del libro, ya que con antelación el agente puede conocer las reglas del juego, los movimientos que puede realizar y el tamaño del tablero. Con este modelo el agente puede planear con antelación su siguiente movida, y puede analizar las implicaciones de este movimiento o elegir otras alternativas.\n",
    "\n",
    "El problema de este tipo de algoritmos es que sólo en contadas aplicaciones se tiene toda la información para construir un modelo del ambiente. En la mayoría de las aplicaciones reales sólo se tiene acceso parcial, y en estos casos hablamos de aprendizaje reforzado libre de modelos, al que pertenecen la mayor parte de los algoritmos usados en la actualidad.\n",
    "\n",
    "##### Aprendizaje reforzado libre de modelos:\n",
    "\n",
    "En este caso el agente debe aprender a tomar las decisiones por prueba y error, pues no conoce todos los detalles del ambiente. En realidad sólo tiene acceso a dos elementos: los estados y la recompensa resultante de sus acciones. Un ejemplo de esto es el ejemplo de la sección 1.3 del libro, donde el agente es un robot que junta basura. Tiene una recompensa positiva cada vez que levanta basura, y recompensa negativa si debe volver a la base a cargar. Por lo que no parece una buena estrategia que el robot esté todo el tiempo buscando basura, ya que en ese caso deberá volver a cargase.\n",
    "\n",
    "Es por esto que debemos definir una política para que siga el agente.\n",
    "\n",
    "##### La Política en el Aprendizaje Reforzado:\n",
    "Una politica define como se comportará el agente en un momento determinado. En lineas generales, una política es una asociación entre los estados que el agente percibe del ambiente y las acciones que debe tomar cuando se encuentra en esos estados.\n",
    "\n",
    "Si el agente está siguiendo la política $\\pi$ en el momento $t$, entonces $\\pi (a|s)$ es la probabilidad de realizar la acción $a$, dado que está en el estado $s$ a tiempo $t$. En definitiva, una política es un mapeo entre los estados y las probabilidades de seleccionar cada posible acción.\n",
    "\n",
    "#### Mejora de la política\n",
    "Para ésto utilizamos las *Ecuaciones de Bellman* tanto para calcular el valor de nuestra **política** a través de un método de punto fijo como para ir mejorando de manera iterativa nuestra **política**.\n",
    "Nos resultó sorprendente lo amplio que puede ser el modelo, en el sentido de que problemas muy diversos pueden resolverse utilizándolo.\n",
    "\n",
    "#### PONGANME UN TITULO NO SEAN ASÍ\n",
    "A su vez si bien el libro aclaraba que el método de resolución utilizando programación dinámica es bueno en el sentido teórico pero deficiente desde el punto de vista de la implementación, en nuestros ejemplos obtuvimos buenos resultados en diversos escenarios y con tiempos de corrida razonables."
   ]
  },
  {
   "cell_type": "markdown",
   "id": "383f0485-9a82-4cfd-a580-eae9463c09b3",
   "metadata": {},
   "source": [
    "# El ejemplo\n",
    "\n",
    "El ejemplo explicado en el libro es el llamado Grid World\n",
    "\n",
    "<div>\n",
    "<center>\n",
    "<img src=\"grid_world.png\" width=\"420\"/>\n",
    "<figcaption align = \"center\"> Ambiente para el juego Grid World </figcaption>\n",
    "</center>\n",
    "</div>"
   ]
  },
  {
   "cell_type": "markdown",
   "id": "2b6bf071-baae-40dd-a525-2509ff2f24b9",
   "metadata": {},
   "source": [
    "# Nuestro modelo\n",
    "\n",
    "Como primera medida, para ayudarnos en la notación definimos un orden para las acciones que utilizaremos con frecuencia en las rutinas de mejora de la política. El orden lo guardamos en el diccionario `ACTIONS@constants.py`. Las `keys` son las acciones y los `values` el orden asignado (notar que es un mapa 1 a 1)."
   ]
  },
  {
   "cell_type": "code",
   "execution_count": 8,
   "id": "da91c65e-6ebd-410c-bd22-17f4015d1ce5",
   "metadata": {},
   "outputs": [
    {
     "name": "stdout",
     "output_type": "stream",
     "text": [
      "Las acciones y su orden\n",
      "0: 'left'\n",
      "1: 'up'\n",
      "2: 'right'\n",
      "3: 'down'\n"
     ]
    }
   ],
   "source": [
    "from src.reinforcement_lenin.constants import ACTIONS\n",
    "print(\"Las acciones y su orden\")\n",
    "for a, o in ACTIONS.items(): print(f\"{o}: '{a}'\")"
   ]
  },
  {
   "cell_type": "markdown",
   "id": "e67617b8-9996-4a9d-9990-34df400ce78f",
   "metadata": {},
   "source": [
    "Para modelar el ambiente de nuestro problema diseñamos el objeto `Board`, cuyos atributos principales son dos:\n",
    "\n",
    "#### `Board.board`:\n",
    "El tablero del juego con sus jugadas legales (i.e.) los movimientos que el agente puede realizar siguiendo las reglas del juego. Está representado como un diccionario de diccionarios (ejemplo para un tablero de 3x3)"
   ]
  },
  {
   "cell_type": "code",
   "execution_count": 5,
   "id": "4f324bd5-79e2-40af-b7d7-43191f4b19a8",
   "metadata": {},
   "outputs": [
    {
     "data": {
      "text/plain": [
       "{0: {},\n",
       " 8: {},\n",
       " 1: {'left': 0, 'up': 1, 'right': 2, 'down': 4},\n",
       " 2: {'left': 1, 'up': 2, 'right': 2, 'down': 5},\n",
       " 3: {'left': 3, 'up': 0, 'right': 4, 'down': 6},\n",
       " 4: {'left': 3, 'up': 1, 'right': 5, 'down': 7},\n",
       " 5: {'left': 4, 'up': 2, 'right': 5, 'down': 8},\n",
       " 6: {'left': 6, 'up': 3, 'right': 7, 'down': 6},\n",
       " 7: {'left': 6, 'up': 4, 'right': 8, 'down': 7}}"
      ]
     },
     "execution_count": 5,
     "metadata": {},
     "output_type": "execute_result"
    }
   ],
   "source": [
    "from src.reinforcement_lenin.grid import Board\n",
    "Board(3).board"
   ]
  },
  {
   "cell_type": "markdown",
   "id": "e460f358-3810-4679-bb81-794e071b986a",
   "metadata": {},
   "source": [
    "Las `keys` son los estados (los casilleros del tablero) y en `values` hay otro diccionario que contiene el estado al cual se llega siguiendo cada una de las acciones."
   ]
  },
  {
   "cell_type": "markdown",
   "id": "8e660404-30b1-4947-9c9f-31d8c860002b",
   "metadata": {},
   "source": [
    "#### `Board.policy`\n",
    "Define la política $\\pi$ adoptada por el agente, representada como la matriz $\\texttt{policy} \\in \\mathbb{R}^{N\\times4} $. La matriz tendrá en $\\texttt{policy[i][j]}$ la probabilidad de tomar la acción $j$ estando en el estado $i$. A continuación, un ejemplo para el tablero de 3x3 con una política uniformemente distribuida."
   ]
  },
  {
   "cell_type": "code",
   "execution_count": 7,
   "id": "66537313-5032-4d0f-9ae0-91c8fd7278e8",
   "metadata": {},
   "outputs": [
    {
     "data": {
      "text/plain": [
       "array([[0.25, 0.25, 0.25, 0.25],\n",
       "       [0.25, 0.25, 0.25, 0.25],\n",
       "       [0.25, 0.25, 0.25, 0.25],\n",
       "       [0.25, 0.25, 0.25, 0.25],\n",
       "       [0.25, 0.25, 0.25, 0.25],\n",
       "       [0.25, 0.25, 0.25, 0.25],\n",
       "       [0.25, 0.25, 0.25, 0.25],\n",
       "       [0.25, 0.25, 0.25, 0.25],\n",
       "       [0.25, 0.25, 0.25, 0.25]])"
      ]
     },
     "execution_count": 7,
     "metadata": {},
     "output_type": "execute_result"
    }
   ],
   "source": [
    "Board(3).policy"
   ]
  },
  {
   "cell_type": "markdown",
   "id": "a370b711-01d8-4746-817a-d8f6e2098cae",
   "metadata": {},
   "source": [
    "El método principal de nuestro objeto es el que mejora iterativamente la política de un agente y lo veremos en detalle más adelante.\n",
    "Por otro lado, incluímos métodos para visualizar el tablero para una política dada. Por ejemplo para un tablero de 3x3 y una política como la anterior, tenemos:"
   ]
  },
  {
   "cell_type": "code",
   "execution_count": 9,
   "id": "f0e74aa3-7732-460e-937a-69b3e62ba7a6",
   "metadata": {},
   "outputs": [
    {
     "data": {
      "image/png": "[encoded data removed]",
      "text/plain": [
       "<Figure size 640x480 with 1 Axes>"
      ]
     },
     "metadata": {},
     "output_type": "display_data"
    }
   ],
   "source": [
    "Board(3).draw_policy()"
   ]
  },
  {
   "cell_type": "markdown",
   "id": "3f4d14fa-080b-4276-98b5-f0a1a8ce8598",
   "metadata": {},
   "source": [
    "Los diamantes negros representan los estados terminales mientras que los azules nos normales. Notar que hemos dejado afuera algunas de las conecciones con las terminales. Esto es porque asumimos que el agente no va a salir de una terminal si se encuentra ya en una."
   ]
  },
  {
   "cell_type": "markdown",
   "id": "276965ef-bb8b-4daa-b4c5-5390f5bf2c88",
   "metadata": {},
   "source": [
    "<h1>Optimización de la política</h1>\n",
    "\n",
    "Nuestro tablero es inicializado siempre con la política uniformemente distribuia como la que vimos recién, y el objetivo es \n",
    "ir modificando esta política de manera iterativa. Para esto precisamos primero poder evaluar una política dada, esto es obtener \n",
    "a partir de la política los retornos esperados siguiendo $\\pi$ a partir de cada uno de los estados."
   ]
  },
  {
   "cell_type": "markdown",
   "id": "32309010-3371-41d7-8709-c6e10ac58b2d",
   "metadata": {},
   "source": [
    "Una de las rutinas que implementamos es el denominado *iterative policy evaluation*, que calcula $v_\\pi(s)$. Recordemos que, según el libro, esta viene definida recursivamente por\n",
    "$$\n",
    "v_0(s) = 0 \\ \\ \\forall s \\in S;\n",
    "$$\n",
    "$$\n",
    "\\begin{align}\n",
    "v_{k+1}(s) & = \\mathbb{E}_\\pi \\big[R_{t+1} + \\gamma v_k(s+1) \\ | \\ S_t = s \\big] \\\\ \n",
    "& = \\sum_a \\pi(a|s) \\sum_{s',r} p(s', r | s, a) [r + \\gamma v_k(s')]:\n",
    "\\end{align}\n",
    "$$\n",
    "valiéndose de que es un punto fijo de las ecuaciones de Bellman, es decir, $\\{v_k\\}_k \\to v_\\pi$ cuando $k$ tiende a infinito."
   ]
  },
  {
   "cell_type": "markdown",
   "id": "bfbdfd58-053c-498c-8499-a4e18b6e3ead",
   "metadata": {},
   "source": [
    "# Resultados"
   ]
  },
  {
   "cell_type": "markdown",
   "id": "23d9dc0b-e3d2-4a5d-aaea-002424acc0f8",
   "metadata": {},
   "source": [
    "### Casos no triviales\n",
    "El ejemplo del libro se reduce al análisis en el caso en que\n",
    "* La dimensión del tablero es $4 \\times 4$.\n",
    "* Hay dos nodos terminales ubicados en las esquinas.\n",
    "* La recompensa es uniforme\n",
    "\n",
    "\n",
    "Si bien nos sirvió como guía y caso testigo para nuestra implementación, decidimos hacerla de manera que no solamente sirviera para resolver éste ejemplo. Veamos cómo generalizamos cada uno de estas restricciones.\n",
    "\n",
    "### Las dimensiones\n",
    "Nuestra propuesta permite modelar tableros de tamaño arbitrariamente grande (dado suficiente poder de cómputo) a través del parámetro `N`. Éste controla el largo del tablero, es decir que tendrá un total de  `N`² casilleros (estados).\n",
    "\n",
    "### Estados terminales\n",
    "La elección de los nodos terminales resulta determinante en el modo que adopta el juego y la política a implementar. En el caso del libro, además de estar limitado en la cantidad de nodos, estos tenían un lugar privilegiado y fijo que le da al juego una simetría intrínseca. Al permitir elegir cualquier estado como terminal"
   ]
  },
  {
   "cell_type": "markdown",
   "id": "4f96a8a1-bad5-46e5-a250-2cd5002e16d3",
   "metadata": {},
   "source": [
    "# Desafíos\n",
    "Las generalizaciones que nos quedaron pendientes incluyen por un lado la de tener una función de probabilidad más compleja, es decir que sea una variable aleatoria en vez de estar determinada. Y por el otro, la de que las acciones nos lleven hacia distintos estados futuros probables y cuyas recompensas también tengan una naturaleza estocástica."
   ]
  },
  {
   "cell_type": "markdown",
   "id": "2b8f53c7-d525-4f36-837d-efe5de33f550",
   "metadata": {},
   "source": [
    "# Backlog:\n",
    "\n",
    "- [wip] Intro a reinforcement learning (ecuación de Bellman)\n",
    "- [wip] El ejemplo 4.1: Grid World\n",
    "- [wip] Nuestro modelo\n",
    "    - [wip] Atributos. \n",
    "    - [wip] Rutinas (evaluación y mejora de la politica)\n",
    "- [wip] Nodos terminales y tamaño\n",
    "- [wip]Implementación del reward\n",
    "- [] Conclusiones\n",
    "- [] Hacer análisis de complejidad."
   ]
  }
 ],
 "metadata": {
  "kernelspec": {
   "display_name": "opti-4phPFOOz-py3.9",
   "language": "python",
   "name": "opti-4phpfooz-py3.9"
  },
  "language_info": {
   "codemirror_mode": {
    "name": "ipython",
    "version": 3
   },
   "file_extension": ".py",
   "mimetype": "text/x-python",
   "name": "python",
   "nbconvert_exporter": "python",
   "pygments_lexer": "ipython3",
   "version": "3.9.17"
  }
 },
 "nbformat": 4,
 "nbformat_minor": 5
}
