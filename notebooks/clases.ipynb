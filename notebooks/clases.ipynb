{
 "cells": [
  {
   "cell_type": "markdown",
   "id": "766762f1",
   "metadata": {},
   "source": [
    "# Sandbox para seguir en vivo las clases"
   ]
  },
  {
   "cell_type": "code",
   "execution_count": 4,
   "id": "5c1f4209",
   "metadata": {},
   "outputs": [],
   "source": [
    "import numpy as np\n",
    "import plotly.graph_objects as go\n",
    "\n",
    "import ipywidgets as widgets\n",
    "from ipywidgets import interact, interact_manual, interactive, fixed"
   ]
  },
  {
   "cell_type": "code",
   "execution_count": null,
   "id": "ecffb07d",
   "metadata": {},
   "outputs": [],
   "source": []
  },
  {
   "cell_type": "markdown",
   "id": "b3035a71",
   "metadata": {},
   "source": [
    "## 2021-05-05"
   ]
  },
  {
   "cell_type": "code",
   "execution_count": 32,
   "id": "558df008",
   "metadata": {},
   "outputs": [],
   "source": [
    "def is_positive_definite(matrix):\n",
    "    if np.array_equal(matrix, matrix.T):\n",
    "        try:\n",
    "            np.linalg.cholesky(matrix)\n",
    "            return True\n",
    "        except np.linalg.LinAlgError:\n",
    "            return False\n",
    "    else:\n",
    "        return False\n",
    "\n",
    "\n",
    "def my_fun(x):\n",
    "    return x[0] ** 2 + x[1] ** 2 - 2*x[0]*x[1]\n",
    "\n",
    "\n",
    "def finite_difference(callable_fun, x_zero, direction, diff_size=0.01):\n",
    "    d = np.zeros(len(x_zero))\n",
    "    d[direction] = 1.0\n",
    "    forward = callable_fun(x_zero + diff_size * d)\n",
    "    backward = callable_fun(x_zero - diff_size * d)\n",
    "    return (forward - backward) / (2 * diff_size)\n",
    "\n",
    "\n",
    "def differential(callable_fun, x_zero, diff_size=0.01):\n",
    "    rv = []\n",
    "    for direction in range(len(x_zero)):\n",
    "        rv.append(\n",
    "            finite_difference(callable_fun, x_zero, direction, diff_size=diff_size)\n",
    "        )\n",
    "    return np.array(rv)\n",
    "\n",
    "\n",
    "def hessian(callable_fun, x_zero, diff_size=0.01):\n",
    "    rv = []\n",
    "    for direction in range(len(x_zero)):\n",
    "        partial = lambda x : finite_difference(my_fun, x, direction, diff_size=diff_size)\n",
    "        rv.append(differential(partial, x_zero, diff_size=diff_size))\n",
    "    return np.array(rv)"
   ]
  },
  {
   "cell_type": "code",
   "execution_count": 36,
   "id": "2bf2dd30",
   "metadata": {
    "scrolled": false
   },
   "outputs": [
    {
     "data": {
      "text/plain": [
       "array([[-2.,  2.],\n",
       "       [ 2., -2.]])"
      ]
     },
     "execution_count": 36,
     "metadata": {},
     "output_type": "execute_result"
    }
   ],
   "source": [
    "-hessian(my_fun, np.array([1, 1]))"
   ]
  },
  {
   "cell_type": "markdown",
   "id": "5121a3c7",
   "metadata": {},
   "source": [
    "## 2021-04-14"
   ]
  },
  {
   "cell_type": "code",
   "execution_count": 8,
   "id": "24909556",
   "metadata": {},
   "outputs": [],
   "source": [
    "def sir_sim(infected_zero=0.001, g_zero=3, total_time=50, alpha=20):\n",
    "    infected_s = [infected_zero]\n",
    "    removed_s = [infected_zero]\n",
    "    infected_h = infected_s.copy()\n",
    "    removed_h = removed_s.copy()\n",
    "    \n",
    "    transmition_rate_s = g_zero * (1 + alpha * infected_s[0]) ** (-1)\n",
    "    transmition_rate_h = g_zero * (1 + alpha * removed_h[0]) ** (-1)\n",
    "    \n",
    "    for week in range(1, total_time):\n",
    "        new_infections_s = transmition_rate_s * infected_s[week-1] * (1 - removed_s[week-1])\n",
    "        new_infections_h = transmition_rate_h * infected_h[week-1] * (1 - removed_h[week-1])\n",
    "        \n",
    "        infected_s.append(new_infections_s)\n",
    "        infected_h.append(new_infections_h)\n",
    "        \n",
    "        removed_s.append(removed_s[week-1] + new_infections_s)\n",
    "        removed_h.append(removed_h[week-1] + new_infections_h)\n",
    "        \n",
    "        transmition_rate_s = g_zero / (1 + alpha * infected_s[week])\n",
    "        transmition_rate_h = g_zero / (1 + alpha * removed_h[week])\n",
    "\n",
    "    time_axis = np.arange(0, total_time)\n",
    "    fig = go.Figure()\n",
    "    fig.add_trace(\n",
    "        go.Scatter(x=time_axis, y=infected_s, mode='lines', name='infected s.s.')\n",
    "    )\n",
    "    fig.add_trace(\n",
    "        go.Scatter(x=time_axis, y=infected_h, mode='lines', name='removed h.a.')\n",
    "    )\n",
    "    fig.show()"
   ]
  },
  {
   "cell_type": "code",
   "execution_count": 11,
   "id": "2d58fac8",
   "metadata": {},
   "outputs": [
    {
     "data": {
      "application/vnd.jupyter.widget-view+json": {
       "model_id": "f75d0df287ce4c30b543db5334393d8c",
       "version_major": 2,
       "version_minor": 0
      },
      "text/plain": [
       "interactive(children=(FloatSlider(value=0.01, description='infected_zero', max=1.0, step=0.001), IntSlider(val…"
      ]
     },
     "metadata": {},
     "output_type": "display_data"
    }
   ],
   "source": [
    "sir_model = interactive(\n",
    "    sir_sim,\n",
    "    infected_zero=widgets.FloatSlider(value=0.01, min=0, max=1, step=0.001),\n",
    "    g_zero=widgets.IntSlider(value=3, min=1, max=10, step=1),\n",
    "    alpha=widgets.IntSlider(value=10, min=0, max=30, step=1),\n",
    "    tota_time=widgets.IntSlider(value=36, min=24, max=96)\n",
    "    \n",
    ");\n",
    "display(sir_model)"
   ]
  },
  {
   "cell_type": "markdown",
   "id": "b75e0d46",
   "metadata": {},
   "source": [
    "## 2021-04-09"
   ]
  },
  {
   "cell_type": "code",
   "execution_count": null,
   "id": "123ddf07",
   "metadata": {},
   "outputs": [],
   "source": [
    "# Diferencias centradas vs forward\n",
    "def f(x):\n",
    "    return abs(x-1)\n",
    "\n",
    "def f2(x):\n",
    "    return x ** 2\n",
    "\n",
    "def f3(x):\n",
    "    return x ** 3\n",
    "\n",
    "h = np.logspace(-20, 0, 10000)  # numpy\n",
    "\n",
    "\n",
    "x0 = 1\n",
    "Dh = (f(x0+h) - f(x0)) / h\n",
    "Dh2 = f(x0+h) - f(x0-h) / 2*h\n",
    "plt.loglog(x0, Dh)"
   ]
  }
 ],
 "metadata": {
  "kernelspec": {
   "display_name": "opti-gOpFOWMT-py3.8",
   "language": "python",
   "name": "opti-gopfowmt-py3.8"
  },
  "language_info": {
   "codemirror_mode": {
    "name": "ipython",
    "version": 3
   },
   "file_extension": ".py",
   "mimetype": "text/x-python",
   "name": "python",
   "nbconvert_exporter": "python",
   "pygments_lexer": "ipython3",
   "version": "3.8.5"
  }
 },
 "nbformat": 4,
 "nbformat_minor": 5
}
