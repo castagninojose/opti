{
 "cells": [
  {
   "cell_type": "code",
   "execution_count": 3,
   "id": "9d112ba3-e430-40b1-9766-8ea049c5ebcf",
   "metadata": {
    "scrolled": true
   },
   "outputs": [
    {
     "ename": "ModuleNotFoundError",
     "evalue": "No module named 'opti'",
     "output_type": "error",
     "traceback": [
      "\u001b[0;31m---------------------------------------------------------------------------\u001b[0m",
      "\u001b[0;31mModuleNotFoundError\u001b[0m                       Traceback (most recent call last)",
      "Cell \u001b[0;32mIn[3], line 5\u001b[0m\n\u001b[1;32m      2\u001b[0m \u001b[38;5;28;01mimport\u001b[39;00m \u001b[38;5;21;01mnetworkx\u001b[39;00m \u001b[38;5;28;01mas\u001b[39;00m \u001b[38;5;21;01mnx\u001b[39;00m\n\u001b[1;32m      3\u001b[0m \u001b[38;5;66;03m#import matplotlib.pyplot as plt\u001b[39;00m\n\u001b[0;32m----> 5\u001b[0m \u001b[38;5;28;01mfrom\u001b[39;00m \u001b[38;5;21;01mopti\u001b[39;00m\u001b[38;5;21;01m.\u001b[39;00m\u001b[38;5;21;01mrein_learning\u001b[39;00m\u001b[38;5;21;01m.\u001b[39;00m\u001b[38;5;21;01mgrid\u001b[39;00m \u001b[38;5;28;01mimport\u001b[39;00m Board\n",
      "\u001b[0;31mModuleNotFoundError\u001b[0m: No module named 'opti'"
     ]
    }
   ],
   "source": [
    "import numpy as np\n",
    "import networkx as nx\n",
    "#import matplotlib.pyplot as plt\n",
    "\n",
    "from rein_learning.grid import Board"
   ]
  },
  {
   "cell_type": "code",
   "execution_count": null,
   "id": "1e819d58-7ac9-48b5-8c15-2f05f88f7c8f",
   "metadata": {},
   "outputs": [],
   "source": [
    "np.array([[k, k+1, k+2] for k in range(0, 8, 3)])"
   ]
  },
  {
   "cell_type": "code",
   "execution_count": null,
   "id": "be26848f-4b56-4a7d-8960-d749e2ea762b",
   "metadata": {},
   "outputs": [],
   "source": [
    "np.array([[k, k+1, k+2, k+3] for k in range(0, 15, 4)])"
   ]
  },
  {
   "cell_type": "code",
   "execution_count": null,
   "id": "a880d7dd-6659-4953-aef3-435e9d231d23",
   "metadata": {},
   "outputs": [],
   "source": [
    "np.array([[k, k+1, k+2] for k in range(0, 8, 3)])"
   ]
  },
  {
   "cell_type": "code",
   "execution_count": null,
   "id": "f9e5bed5-fdab-4d2c-ac9e-5bd6aa6dbe7d",
   "metadata": {},
   "outputs": [],
   "source": [
    "juego_1 = Board()\n",
    "juego_1.plot_graph()"
   ]
  },
  {
   "cell_type": "code",
   "execution_count": null,
   "id": "18ae9268-605a-4350-952d-b804409cf60b",
   "metadata": {},
   "outputs": [],
   "source": [
    "juego_1.graph.__dict__"
   ]
  },
  {
   "cell_type": "code",
   "execution_count": null,
   "id": "3d6553ed-6494-408a-a45d-608729dc7968",
   "metadata": {},
   "outputs": [],
   "source": []
  },
  {
   "cell_type": "code",
   "execution_count": null,
   "id": "5dcb9c82-c4bf-45ed-888f-de404a63456b",
   "metadata": {},
   "outputs": [],
   "source": []
  },
  {
   "cell_type": "code",
   "execution_count": null,
   "id": "07c6e575-c325-474c-b573-1728f14ba370",
   "metadata": {},
   "outputs": [],
   "source": []
  },
  {
   "cell_type": "code",
   "execution_count": null,
   "id": "e1a76991-2f25-4759-9dbb-3414b4cab3a2",
   "metadata": {
    "scrolled": true
   },
   "outputs": [],
   "source": [
    "#juego_1.get_proba(5, 9, 'down')"
   ]
  },
  {
   "cell_type": "code",
   "execution_count": null,
   "id": "aa9d9fbf-061d-433a-aa9e-e4ff6aa2160a",
   "metadata": {},
   "outputs": [],
   "source": []
  },
  {
   "cell_type": "code",
   "execution_count": null,
   "id": "6d04d058-31b8-4b97-bdd7-d5d1bb2a0773",
   "metadata": {},
   "outputs": [],
   "source": []
  },
  {
   "cell_type": "code",
   "execution_count": null,
   "id": "5d755c91-6f42-4d8c-a2c9-b64bee1279f0",
   "metadata": {},
   "outputs": [],
   "source": []
  },
  {
   "cell_type": "code",
   "execution_count": null,
   "id": "d11a5725-3b78-4654-b9bc-dfa2ac7580a2",
   "metadata": {},
   "outputs": [],
   "source": []
  },
  {
   "cell_type": "code",
   "execution_count": null,
   "id": "18586dd1-9108-49e9-8f43-adefe80ef34a",
   "metadata": {},
   "outputs": [],
   "source": []
  },
  {
   "cell_type": "code",
   "execution_count": null,
   "id": "f56c3a46-bb5f-40cf-859b-037de6584ab9",
   "metadata": {},
   "outputs": [],
   "source": []
  },
  {
   "cell_type": "code",
   "execution_count": null,
   "id": "f8a02332-24e3-41a2-83b5-234c464d0722",
   "metadata": {},
   "outputs": [],
   "source": []
  },
  {
   "cell_type": "code",
   "execution_count": null,
   "id": "a369bd4e-0544-4144-835f-f9f904c79267",
   "metadata": {},
   "outputs": [],
   "source": []
  },
  {
   "cell_type": "code",
   "execution_count": null,
   "id": "91cf1e18-3775-4400-b986-0f3c41a4de12",
   "metadata": {},
   "outputs": [],
   "source": []
  },
  {
   "cell_type": "code",
   "execution_count": null,
   "id": "f67ea8ff-6288-43fd-bc63-a5daabc047ee",
   "metadata": {},
   "outputs": [],
   "source": []
  },
  {
   "cell_type": "code",
   "execution_count": null,
   "id": "58b43516-84ea-4add-a22c-a3a898cefbb1",
   "metadata": {},
   "outputs": [],
   "source": []
  },
  {
   "cell_type": "code",
   "execution_count": null,
   "id": "5c25b39d-dcc1-4219-965d-a3e252646508",
   "metadata": {},
   "outputs": [],
   "source": []
  },
  {
   "cell_type": "code",
   "execution_count": null,
   "id": "e3536898-9492-4b64-8bf7-123eba0cc585",
   "metadata": {},
   "outputs": [],
   "source": []
  },
  {
   "cell_type": "code",
   "execution_count": null,
   "id": "cdd86f7f-af75-469e-9d32-32d161e72fa0",
   "metadata": {},
   "outputs": [],
   "source": []
  },
  {
   "cell_type": "code",
   "execution_count": null,
   "id": "d8e5e608-236b-4930-bf11-c858f5344cb3",
   "metadata": {},
   "outputs": [],
   "source": []
  },
  {
   "cell_type": "code",
   "execution_count": null,
   "id": "e9a272c1-d8c0-4edc-b822-8b786145719c",
   "metadata": {},
   "outputs": [],
   "source": []
  },
  {
   "cell_type": "code",
   "execution_count": null,
   "id": "0386051f-34cf-4834-9547-62d63be6a4e9",
   "metadata": {},
   "outputs": [],
   "source": []
  },
  {
   "cell_type": "code",
   "execution_count": null,
   "id": "ef135573-70a7-415a-8efc-39e2318c6c5c",
   "metadata": {},
   "outputs": [],
   "source": []
  },
  {
   "cell_type": "code",
   "execution_count": null,
   "id": "499d76ce-46e2-4b0d-9d2b-3b881eafb894",
   "metadata": {},
   "outputs": [],
   "source": []
  },
  {
   "cell_type": "code",
   "execution_count": null,
   "id": "80166edf-d946-41f8-b027-4821a08ce7f4",
   "metadata": {},
   "outputs": [],
   "source": []
  },
  {
   "cell_type": "code",
   "execution_count": null,
   "id": "e5bba5c6-1c02-456d-bf36-83dd45a7236c",
   "metadata": {},
   "outputs": [],
   "source": [
    "#board = {k: 0 for k in range(1, 16)}\n",
    "#board[1] = 'terminal'\n",
    "#board[16] = 'terminal'\n",
    "#print(board)"
   ]
  },
  {
   "cell_type": "code",
   "execution_count": null,
   "id": "58008811-e780-45b9-8d1f-c868e5448c70",
   "metadata": {},
   "outputs": [],
   "source": [
    "#np.array([[k, k+1, k+2, k+3] for k in range(0, 15, 4)])"
   ]
  },
  {
   "cell_type": "code",
   "execution_count": null,
   "id": "21f77f5e-4cac-4d93-a359-f76872d70499",
   "metadata": {},
   "outputs": [],
   "source": [
    "G = nx.DiGraph()\n",
    "G.add_nodes_from(range(16))\n",
    "for k in range(1, 15):\n",
    "    G.add_edge(k, k)\n",
    "\n",
    "G.remove_edge(5, 5)\n",
    "G.remove_edge(6, 6)\n",
    "G.remove_edge(9, 9)\n",
    "G.remove_edge(10, 10)\n",
    "G.add_edge(1, 0, proba=0.25)\n",
    "G.add_edge(1, 2, proba=0.25)\n",
    "G.add_edge(1, 5, proba=0.25)\n",
    "G.add_edge(2, 1, proba=0.25)\n",
    "G.add_edge(2, 3, proba=0.25)\n",
    "G.add_edge(2, 6, proba=0.25)\n",
    "G.add_edge(3, 7, proba=0.25)\n",
    "G.add_edge(3, 2, proba=0.25)\n",
    "G.add_edge(4, 0, proba=0.25)\n",
    "G.add_edge(4, 5, proba=0.25)\n",
    "G.add_edge(4, 8, proba=0.25)\n",
    "G.add_edge(5, 1, proba=0.25)\n",
    "G.add_edge(5, 9, proba=0.25)\n",
    "G.add_edge(5, 4, proba=0.25)\n",
    "G.add_edge(5, 6, proba=0.25)\n",
    "G.add_edge(6, 7, proba=0.25)\n",
    "G.add_edge(6, 10, proba=0.25)\n",
    "G.add_edge(6, 2, proba=0.25)\n",
    "G.add_edge(6, 5, proba=0.25)\n",
    "G.add_edge(7, 3, proba=0.25)\n",
    "G.add_edge(7, 11, proba=0.25)\n",
    "G.add_edge(7, 6, proba=0.25)\n",
    "G.add_edge(8, 9, proba=0.25)\n",
    "G.add_edge(8, 4, proba=0.25)\n",
    "G.add_edge(8, 12, proba=0.25)\n",
    "G.add_edge(9, 8, proba=0.25)\n",
    "G.add_edge(9, 10, proba=0.25)\n",
    "G.add_edge(9, 5, proba=0.25)\n",
    "G.add_edge(9, 13, proba=0.25)\n",
    "G.add_edge(10, 9, proba=0.25)\n",
    "G.add_edge(10, 11, proba=0.25)\n",
    "G.add_edge(10, 6, proba=0.25)\n",
    "G.add_edge(10, 14, proba=0.25)\n",
    "G.add_edge(11, 7, proba=0.25)\n",
    "G.add_edge(11, 10, proba=0.25)\n",
    "G.add_edge(11, 15, proba=0.25)\n",
    "G.add_edge(12, 8, proba=0.25)\n",
    "G.add_edge(12, 13, proba=0.25)\n",
    "G.add_edge(13, 12, proba=0.25)\n",
    "G.add_edge(13, 14, proba=0.25)\n",
    "G.add_edge(13, 9, proba=0.25)\n",
    "G.add_edge(14, 10, proba=0.25)\n",
    "G.add_edge(14, 13, proba=0.25)\n",
    "G.add_edge(14, 15, proba=0.25)\n",
    "G.nodes"
   ]
  },
  {
   "cell_type": "code",
   "execution_count": null,
   "id": "9f2dd507-3296-4762-9ceb-0b8cf4f6eb01",
   "metadata": {},
   "outputs": [],
   "source": [
    "np.array([[k, k+1, k+2, k+3] for k in range(0, 15, 4)])"
   ]
  },
  {
   "cell_type": "code",
   "execution_count": null,
   "id": "75f3d484-8bfd-41f6-9c27-840ffb09b9f4",
   "metadata": {},
   "outputs": [],
   "source": [
    "nx.draw(G, with_labels=True)"
   ]
  },
  {
   "cell_type": "code",
   "execution_count": null,
   "id": "1faf2ed0-5e83-4825-ad3c-b97197cdd88f",
   "metadata": {},
   "outputs": [],
   "source": [
    "G.out_edges(1)"
   ]
  },
  {
   "cell_type": "code",
   "execution_count": null,
   "id": "a2148c19-2f76-45c1-9f77-160aa07835e3",
   "metadata": {},
   "outputs": [],
   "source": [
    "values = np.zeros(16)\n",
    "reward = -1\n",
    "gamma = .5\n",
    "politica_init = [.25, .25, .25, .25]\n",
    "politica = [pi_0 for i in range(14)]\n",
    "print(np.array(politica))"
   ]
  },
  {
   "cell_type": "code",
   "execution_count": null,
   "id": "f97ad233-d5e2-4586-9eb8-d044f5f748c5",
   "metadata": {
    "scrolled": true
   },
   "outputs": [],
   "source": [
    "print(nx.adjacency_matrix(G))"
   ]
  },
  {
   "cell_type": "code",
   "execution_count": null,
   "id": "c20339eb-0819-407d-9614-aad7e5bd8eae",
   "metadata": {},
   "outputs": [],
   "source": [
    "SIZE = 10 ** 4\n",
    "index = np.arange(SIZE)\n",
    "temp = np.random.normal(37.5, 3, SIZE)\n",
    "transition = np.log(index + 1)"
   ]
  },
  {
   "cell_type": "code",
   "execution_count": null,
   "id": "5d0b8821-3b7c-483d-a54d-8e254a906701",
   "metadata": {},
   "outputs": [],
   "source": [
    "fig = go.Figure()\n",
    "#fig.add_trace(go.Scatter(x=index, y=temp))\n",
    "fig.add_trace(go.Scatter(x=index, y=transition + temp))\n",
    "fig.show()"
   ]
  },
  {
   "cell_type": "code",
   "execution_count": null,
   "id": "a91c7fdf-195d-4772-ba2f-f1bd04469225",
   "metadata": {},
   "outputs": [],
   "source": []
  }
 ],
 "metadata": {
  "kernelspec": {
   "display_name": "opti-4phPFOOz-py3.9",
   "language": "python",
   "name": "opti-4phpfooz-py3.9"
  },
  "language_info": {
   "codemirror_mode": {
    "name": "ipython",
    "version": 3
   },
   "file_extension": ".py",
   "mimetype": "text/x-python",
   "name": "python",
   "nbconvert_exporter": "python",
   "pygments_lexer": "ipython3",
   "version": "3.9.17"
  }
 },
 "nbformat": 4,
 "nbformat_minor": 5
}
